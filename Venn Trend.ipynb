{
 "cells": [
  {
   "cell_type": "code",
   "execution_count": 1,
   "metadata": {},
   "outputs": [],
   "source": [
    "import pandas as pd\n",
    "from IPython.display import SVG, display"
   ]
  },
  {
   "cell_type": "code",
   "execution_count": 2,
   "metadata": {},
   "outputs": [],
   "source": [
    "df = pd.DataFrame(\n",
    "    {\n",
    "        \"labels\": [\"January\", \"February\", \"March\", \"April\", \"May\", \"June\"],\n",
    "        \"a\": [734, 570, 304, 300, 700, 190],\n",
    "        \"ab\": [54, 34, 45, 89, 310, 115],\n",
    "        \"b\": [300, 356, 370, 460, 530, 550]\n",
    "    }\n",
    ")"
   ]
  },
  {
   "cell_type": "code",
   "execution_count": 3,
   "metadata": {},
   "outputs": [
    {
     "data": {
      "image/svg+xml": [
       "<svg height=\"600\" width=\"800\" xmlns=\"http://www.w3.org/2000/svg\">\n",
       "<defs>\n",
       "  <style type=\"text/css\">\n",
       "    \n",
       "    \n",
       "    @import url('https://fonts.googleapis.com/css?family=Open+Sans:300,400');\n",
       "\n",
       "\n",
       "\n",
       "    polygon {\n",
       "      opacity: .5;\n",
       "    }\n",
       "\n",
       "\n",
       "    rect.bar {\n",
       "      fill: url(#gradient_one);\n",
       "      opacity: 1;\n",
       "    }\n",
       "\n",
       "    rect.bar:Hover {\n",
       "      opacity: .55;\n",
       "    }\n",
       "\n",
       "    text.label {\n",
       "      text-anchor: end;\n",
       "    }\n",
       "\n",
       "    text.value_label, text.place_label {\n",
       "      text-anchor: start;\n",
       "    }\n",
       "\n",
       "    text.label, text.value_label, text.place_label  {\n",
       "      alignment-baseline: central;\n",
       "      font-family: 'Open Sans', sans-serif;\n",
       "      font-weight: 300;\n",
       "      fill: #111;\n",
       "      font-size: 18px;\n",
       "    }\n",
       "\n",
       "    text.place_label {\n",
       "      fill: #fff;\n",
       "      font-weight: 400;\n",
       "    }\n",
       "\n",
       "\n",
       "    text.title {\n",
       "      font-family: 'Open Sans', sans-serif;\n",
       "      font-weight: 400;\n",
       "      fill: #111;\n",
       "      font-size: 32px;\n",
       "      text-anchor: start;\n",
       "    }\n",
       "\n",
       "    text.subtitle {\n",
       "      font-family: 'Open Sans', sans-serif;\n",
       "      font-weight: 300;\n",
       "      fill: #111;\n",
       "      font-size: 18px;\n",
       "      text-anchor: start;\n",
       "    }\n",
       "\n",
       "    text.signature {\n",
       "      font-family: 'Open Sans', sans-serif;\n",
       "      font-weight: 300;\n",
       "      fill: #111;\n",
       "\n",
       "      text-anchor: start;\n",
       "      alignment-baseline: top;\n",
       "      font-size: 18px;\n",
       "    }\n",
       "\n",
       "  </style>\n",
       "  \n",
       "    <linearGradient gradientUnits=\"userSpaceOnUse\" id=\"gradient_red_green\" x1=\"0%\" x2=\"100%\" y1=\"0%\" y2=\"0%\">\n",
       "      <stop offset=\"10%\" stop-color=\"#f9989f\"/>\n",
       "      <stop offset=\"80%\" stop-color=\"green\"/>\n",
       "    </linearGradient>\n",
       "\n",
       "\n",
       "    <linearGradient gradientUnits=\"userSpaceOnUse\" id=\"gradient_one\" x1=\"0%\" x2=\"100%\" y1=\"0%\" y2=\"0%\">\n",
       "      <stop offset=\"0%\" stop-color=\"#ff8b6a\" stop-opacity=\".5\"/>\n",
       "      <stop offset=\"100%\" stop-color=\"#ff8b6a\"/>\n",
       "    </linearGradient>\n",
       "\n",
       "\n",
       "  </defs>\n",
       "\n",
       "\n",
       "  \n",
       "    \n",
       "      <polygon class=\"\" fill=\"#00a86d\" points=\"750,82 50,82 50.0,365.1142857142857 190.0,323.5470852017937 330.0,264.6899841017488 470.0,251.0014903129657 610.0,369.60869565217394 750.0,196.912\" stroke=\"none\"/>\n",
       "    \n",
       "      <polygon class=\"\" fill=\"#4472c4\" points=\"750,460 50,460 50.0,344.2857142857143 190.0,309.1390134529148 330.0,237.6470588235294 470.0,200.86438152011925 610.0,242.2391304347826 750.0,127.36000000000001\" stroke=\"none\"/>\n",
       "    \n",
       "  \n",
       "\n",
       "</svg>"
      ],
      "text/plain": [
       "<IPython.core.display.SVG object>"
      ]
     },
     "metadata": {},
     "output_type": "display_data"
    }
   ],
   "source": [
    "from ljplot.svg import venn_trend\n",
    "display(SVG(venn_trend(df.labels, df.a, df.b, df.ab)))"
   ]
  },
  {
   "cell_type": "markdown",
   "metadata": {},
   "source": [
    " "
   ]
  }
 ],
 "metadata": {
  "kernelspec": {
   "display_name": "Python 3",
   "language": "python",
   "name": "python3"
  },
  "language_info": {
   "codemirror_mode": {
    "name": "ipython",
    "version": 3
   },
   "file_extension": ".py",
   "mimetype": "text/x-python",
   "name": "python",
   "nbconvert_exporter": "python",
   "pygments_lexer": "ipython3",
   "version": "3.7.2"
  }
 },
 "nbformat": 4,
 "nbformat_minor": 2
}
