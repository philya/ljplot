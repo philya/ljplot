{
 "cells": [
  {
   "cell_type": "code",
   "execution_count": 1,
   "metadata": {},
   "outputs": [],
   "source": [
    "import pandas as pd\n",
    "from IPython.display import SVG, display"
   ]
  },
  {
   "cell_type": "code",
   "execution_count": 2,
   "metadata": {},
   "outputs": [],
   "source": [
    "df = pd.DataFrame(\n",
    "    {\n",
    "        \"labels\": [\"January\", \"February\", \"March\", \"April\", \"May\", \"June\"],\n",
    "        \"a\": [734, 570, 304, 300, 700, 190],\n",
    "        \"ab\": [54, 34, 45, 89, 310, 115],\n",
    "        \"b\": [300, 356, 370, 460, 530, 550]\n",
    "    }\n",
    ")"
   ]
  },
  {
   "cell_type": "code",
   "execution_count": 3,
   "metadata": {},
   "outputs": [
    {
     "data": {
      "image/svg+xml": [
       "<svg height=\"600\" width=\"800\" xmlns=\"http://www.w3.org/2000/svg\">\n",
       "<defs>\n",
       "  <style type=\"text/css\">\n",
       "    \n",
       "    \n",
       "    @import url('https://fonts.googleapis.com/css?family=Open+Sans:300,400');\n",
       "\n",
       "\n",
       "\n",
       "    polygon {\n",
       "      opacity: .5;\n",
       "    }\n",
       "\n",
       "\n",
       "    rect.bar {\n",
       "      fill: url(#gradient_one);\n",
       "      opacity: 1;\n",
       "    }\n",
       "\n",
       "    rect.bar:Hover {\n",
       "      opacity: .55;\n",
       "    }\n",
       "\n",
       "\n",
       "    g.ruler {\n",
       "      opacity: 0;\n",
       "    }\n",
       "\n",
       "    g.ruler:Hover {\n",
       "      opacity: .9;\n",
       "    }\n",
       "\n",
       "    g.ruler line.ruler_line, g.ruler line.ruler_tick {\n",
       "      stroke: #000;\n",
       "      stroke-width: 1px;\n",
       "    }\n",
       "\n",
       "    g.ruler line.area_line {\n",
       "      stroke: #333;\n",
       "      stroke-width: 70px;\n",
       "      opacity: 0;\n",
       "    }\n",
       "\n",
       "    g.ruler text.ruler_label {\n",
       "      text-anchor: start;\n",
       "      alignment-baseline: central;\n",
       "      font-family: 'Open Sans', sans-serif;\n",
       "      font-weight: 300;\n",
       "      fill: #000;\n",
       "      font-size: 18px;\n",
       "\n",
       "    }\n",
       "\n",
       "    g.ruler.left text.ruler_label {\n",
       "      text-anchor: end;\n",
       "    }\n",
       "\n",
       "\n",
       "    text.xlabel {\n",
       "      text-anchor: middle;\n",
       "      alignment-baseline: central;\n",
       "      font-family: 'Open Sans', sans-serif;\n",
       "      font-weight: 300;\n",
       "      fill: #111;\n",
       "      font-size: 18px;\n",
       "    }\n",
       "\n",
       "\n",
       "\n",
       "    text.title {\n",
       "      font-family: 'Open Sans', sans-serif;\n",
       "      font-weight: 400;\n",
       "      fill: #111;\n",
       "      font-size: 32px;\n",
       "      text-anchor: start;\n",
       "    }\n",
       "\n",
       "    text.subtitle {\n",
       "      font-family: 'Open Sans', sans-serif;\n",
       "      font-weight: 300;\n",
       "      fill: #111;\n",
       "      font-size: 18px;\n",
       "      text-anchor: start;\n",
       "    }\n",
       "\n",
       "    text.signature {\n",
       "      font-family: 'Open Sans', sans-serif;\n",
       "      font-weight: 300;\n",
       "      fill: #111;\n",
       "\n",
       "      text-anchor: start;\n",
       "      alignment-baseline: top;\n",
       "      font-size: 18px;\n",
       "    }\n",
       "\n",
       "  </style>\n",
       "  \n",
       "    <linearGradient gradientUnits=\"userSpaceOnUse\" id=\"gradient_red_green\" x1=\"0%\" x2=\"100%\" y1=\"0%\" y2=\"0%\">\n",
       "      <stop offset=\"10%\" stop-color=\"#f9989f\"/>\n",
       "      <stop offset=\"80%\" stop-color=\"green\"/>\n",
       "    </linearGradient>\n",
       "\n",
       "\n",
       "    <linearGradient gradientUnits=\"userSpaceOnUse\" id=\"gradient_one\" x1=\"0%\" x2=\"100%\" y1=\"0%\" y2=\"0%\">\n",
       "      <stop offset=\"0%\" stop-color=\"#ff8b6a\" stop-opacity=\".5\"/>\n",
       "      <stop offset=\"100%\" stop-color=\"#ff8b6a\"/>\n",
       "    </linearGradient>\n",
       "\n",
       "\n",
       "  </defs>\n",
       "\n",
       "\n",
       "  \n",
       "    \n",
       "      <polygon class=\"\" fill=\"#00a86d\" points=\"750,82 50,82 50.0,365.1142857142857 190.0,323.5470852017937 330.0,264.6899841017488 470.0,251.0014903129657 610.0,369.60869565217394 750.0,196.912\" stroke=\"none\"/>\n",
       "    \n",
       "      <polygon class=\"\" fill=\"#4472c4\" points=\"750,460 50,460 50.0,344.2857142857143 190.0,309.1390134529148 330.0,237.6470588235294 470.0,200.86438152011925 610.0,242.2391304347826 750.0,127.36000000000001\" stroke=\"none\"/>\n",
       "    \n",
       "      <text class=\"xlabel\" x=\"50.0\" y=\"490.0\">January</text>\n",
       "    \n",
       "      <g class=\"ruler right\"><line class=\"area_line\" x1=\"50.0\" x2=\"50.0\" y1=\"82\" y2=\"520\"/><line class=\"ruler_line\" x1=\"50.0\" x2=\"50.0\" y1=\"82\" y2=\"460\"/><line class=\"ruler_tick\" x1=\"45.0\" x2=\"55.0\" y1=\"344.2857142857143\" y2=\"344.2857142857143\"/><line class=\"ruler_tick\" x1=\"45.0\" x2=\"55.0\" y1=\"365.1142857142857\" y2=\"365.1142857142857\"/><text class=\"ruler_label\" x=\"60.0\" y=\"213.14285714285714\">69.4%</text><text class=\"ruler_label\" x=\"60.0\" y=\"412.5571428571428\">25.1%</text><text class=\"ruler_label\" x=\"60.0\" y=\"354.7\">5.5%</text></g>\n",
       "    \n",
       "      <text class=\"xlabel\" x=\"190.0\" y=\"490.0\">February</text>\n",
       "    \n",
       "      <g class=\"ruler right\"><line class=\"area_line\" x1=\"190.0\" x2=\"190.0\" y1=\"82\" y2=\"520\"/><line class=\"ruler_line\" x1=\"190.0\" x2=\"190.0\" y1=\"82\" y2=\"460\"/><line class=\"ruler_tick\" x1=\"185.0\" x2=\"195.0\" y1=\"309.1390134529148\" y2=\"309.1390134529148\"/><line class=\"ruler_tick\" x1=\"185.0\" x2=\"195.0\" y1=\"323.5470852017937\" y2=\"323.5470852017937\"/><text class=\"ruler_label\" x=\"200.0\" y=\"195.5695067264574\">60.1%</text><text class=\"ruler_label\" x=\"200.0\" y=\"391.77354260089686\">36.1%</text><text class=\"ruler_label\" x=\"200.0\" y=\"316.34304932735427\">3.8%</text></g>\n",
       "    \n",
       "      <text class=\"xlabel\" x=\"330.0\" y=\"490.0\">March</text>\n",
       "    \n",
       "      <g class=\"ruler right\"><line class=\"area_line\" x1=\"330.0\" x2=\"330.0\" y1=\"82\" y2=\"520\"/><line class=\"ruler_line\" x1=\"330.0\" x2=\"330.0\" y1=\"82\" y2=\"460\"/><line class=\"ruler_tick\" x1=\"325.0\" x2=\"335.0\" y1=\"237.6470588235294\" y2=\"237.6470588235294\"/><line class=\"ruler_tick\" x1=\"325.0\" x2=\"335.0\" y1=\"264.6899841017488\" y2=\"264.6899841017488\"/><text class=\"ruler_label\" x=\"340.0\" y=\"159.8235294117647\">41.2%</text><text class=\"ruler_label\" x=\"340.0\" y=\"362.3449920508744\">51.7%</text><text class=\"ruler_label\" x=\"340.0\" y=\"251.1685214626391\">7.2%</text></g>\n",
       "    \n",
       "      <text class=\"xlabel\" x=\"470.0\" y=\"490.0\">April</text>\n",
       "    \n",
       "      <g class=\"ruler right\"><line class=\"area_line\" x1=\"470.0\" x2=\"470.0\" y1=\"82\" y2=\"520\"/><line class=\"ruler_line\" x1=\"470.0\" x2=\"470.0\" y1=\"82\" y2=\"460\"/><line class=\"ruler_tick\" x1=\"465.0\" x2=\"475.0\" y1=\"200.86438152011925\" y2=\"200.86438152011925\"/><line class=\"ruler_tick\" x1=\"465.0\" x2=\"475.0\" y1=\"251.0014903129657\" y2=\"251.0014903129657\"/><text class=\"ruler_label\" x=\"480.0\" y=\"141.43219076005963\">31.4%</text><text class=\"ruler_label\" x=\"480.0\" y=\"355.5007451564828\">55.3%</text><text class=\"ruler_label\" x=\"480.0\" y=\"225.93293591654248\">13.3%</text></g>\n",
       "    \n",
       "      <text class=\"xlabel\" x=\"610.0\" y=\"490.0\">May</text>\n",
       "    \n",
       "      <g class=\"ruler right\"><line class=\"area_line\" x1=\"610.0\" x2=\"610.0\" y1=\"82\" y2=\"520\"/><line class=\"ruler_line\" x1=\"610.0\" x2=\"610.0\" y1=\"82\" y2=\"460\"/><line class=\"ruler_tick\" x1=\"605.0\" x2=\"615.0\" y1=\"242.2391304347826\" y2=\"242.2391304347826\"/><line class=\"ruler_tick\" x1=\"605.0\" x2=\"615.0\" y1=\"369.60869565217394\" y2=\"369.60869565217394\"/><text class=\"ruler_label\" x=\"620.0\" y=\"162.1195652173913\">42.4%</text><text class=\"ruler_label\" x=\"620.0\" y=\"414.804347826087\">23.9%</text><text class=\"ruler_label\" x=\"620.0\" y=\"305.92391304347825\">33.7%</text></g>\n",
       "    \n",
       "      <text class=\"xlabel\" x=\"750.0\" y=\"490.0\">June</text>\n",
       "    \n",
       "      <g class=\"ruler right\"><line class=\"area_line\" x1=\"750.0\" x2=\"750.0\" y1=\"82\" y2=\"520\"/><line class=\"ruler_line\" x1=\"750.0\" x2=\"750.0\" y1=\"82\" y2=\"460\"/><line class=\"ruler_tick\" x1=\"745.0\" x2=\"755.0\" y1=\"127.36000000000001\" y2=\"127.36000000000001\"/><line class=\"ruler_tick\" x1=\"745.0\" x2=\"755.0\" y1=\"196.912\" y2=\"196.912\"/><text class=\"ruler_label\" x=\"760.0\" y=\"104.68\">12.0%</text><text class=\"ruler_label\" x=\"760.0\" y=\"328.456\">69.6%</text><text class=\"ruler_label\" x=\"760.0\" y=\"162.13600000000002\">18.4%</text></g>\n",
       "    \n",
       "  \n",
       "\n",
       "</svg>"
      ],
      "text/plain": [
       "<IPython.core.display.SVG object>"
      ]
     },
     "metadata": {},
     "output_type": "display_data"
    }
   ],
   "source": [
    "from ljplot.svg import venn_trend\n",
    "display(SVG(venn_trend(df.labels, df.a, df.b, df.ab)))"
   ]
  },
  {
   "cell_type": "code",
   "execution_count": 4,
   "metadata": {},
   "outputs": [
    {
     "data": {
      "text/plain": [
       "'<svg height=\"600\" width=\"800\" xmlns=\"http://www.w3.org/2000/svg\">\\n<defs>\\n  <style type=\\'text/css\\'>\\n    \\n    \\n    @import url(\\'https://fonts.googleapis.com/css?family=Open+Sans:300,400\\');\\n\\n\\n\\n    polygon {\\n      opacity: .5;\\n    }\\n\\n\\n    rect.bar {\\n      fill: url(#gradient_one);\\n      opacity: 1;\\n    }\\n\\n    rect.bar:Hover {\\n      opacity: .55;\\n    }\\n\\n\\n    g.ruler {\\n      opacity: 0;\\n    }\\n\\n    g.ruler:Hover {\\n      opacity: .9;\\n    }\\n\\n    g.ruler line.ruler_line, g.ruler line.ruler_tick {\\n      stroke: #000;\\n      stroke-width: 1px;\\n    }\\n\\n    g.ruler line.area_line {\\n      stroke: #333;\\n      stroke-width: 70px;\\n      opacity: 0;\\n    }\\n\\n    g.ruler text.ruler_label {\\n      text-anchor: start;\\n      alignment-baseline: central;\\n      font-family: \\'Open Sans\\', sans-serif;\\n      font-weight: 300;\\n      fill: #000;\\n      font-size: 18px;\\n\\n    }\\n\\n    g.ruler.left text.ruler_label {\\n      text-anchor: end;\\n    }\\n\\n\\n    text.xlabel {\\n      text-anchor: middle;\\n      alignment-baseline: central;\\n      font-family: \\'Open Sans\\', sans-serif;\\n      font-weight: 300;\\n      fill: #111;\\n      font-size: 18px;\\n    }\\n\\n\\n\\n    text.title {\\n      font-family: \\'Open Sans\\', sans-serif;\\n      font-weight: 400;\\n      fill: #111;\\n      font-size: 32px;\\n      text-anchor: start;\\n    }\\n\\n    text.subtitle {\\n      font-family: \\'Open Sans\\', sans-serif;\\n      font-weight: 300;\\n      fill: #111;\\n      font-size: 18px;\\n      text-anchor: start;\\n    }\\n\\n    text.signature {\\n      font-family: \\'Open Sans\\', sans-serif;\\n      font-weight: 300;\\n      fill: #111;\\n\\n      text-anchor: start;\\n      alignment-baseline: top;\\n      font-size: 18px;\\n    }\\n\\n  </style>\\n  \\n    <linearGradient id=\"gradient_red_green\" x1=\"0%\" y1=\"0%\" x2=\"100%\" y2=\"0%\" gradientUnits=\"userSpaceOnUse\">\\n      <stop offset=\"10%\"   stop-color=\"#f9989f\"/>\\n      <stop offset=\"80%\" stop-color=\"green\"/>\\n    </linearGradient>\\n\\n\\n    <linearGradient id=\"gradient_one\" x1=\"0%\" y1=\"0%\" x2=\"100%\" y2=\"0%\" gradientUnits=\"userSpaceOnUse\">\\n      <stop offset=\"0%\"   stop-color=\"#ff8b6a\" stop-opacity=\".5\"/>\\n      <stop offset=\"100%\" stop-color=\"#ff8b6a\"/>\\n    </linearGradient>\\n\\n\\n  </defs>\\n\\n\\n  \\n    \\n      <polygon points=\"750,82 50,82 50.0,365.1142857142857 190.0,323.5470852017937 330.0,264.6899841017488 470.0,251.0014903129657 610.0,369.60869565217394 750.0,196.912\" fill=\"#00a86d\" stroke=\"none\" class=\"\"/>\\n    \\n      <polygon points=\"750,460 50,460 50.0,344.2857142857143 190.0,309.1390134529148 330.0,237.6470588235294 470.0,200.86438152011925 610.0,242.2391304347826 750.0,127.36000000000001\" fill=\"#4472c4\" stroke=\"none\" class=\"\"/>\\n    \\n      <text x=\"50.0\" y=\"490.0\" class=\"xlabel\">January</text>\\n    \\n      <g class=\\'ruler right\\'><line x1=\"50.0\" y1=\"82\" x2=\"50.0\" y2=\"520\" class=\"area_line\"/><line x1=\"50.0\" y1=\"82\" x2=\"50.0\" y2=\"460\" class=\"ruler_line\"/><line x1=\"45.0\" y1=\"344.2857142857143\" x2=\"55.0\" y2=\"344.2857142857143\" class=\"ruler_tick\"/><line x1=\"45.0\" y1=\"365.1142857142857\" x2=\"55.0\" y2=\"365.1142857142857\" class=\"ruler_tick\"/><text x=\"60.0\" y=\"213.14285714285714\" class=\"ruler_label\">69.4%</text><text x=\"60.0\" y=\"412.5571428571428\" class=\"ruler_label\">25.1%</text><text x=\"60.0\" y=\"354.7\" class=\"ruler_label\">5.5%</text></g>\\n    \\n      <text x=\"190.0\" y=\"490.0\" class=\"xlabel\">February</text>\\n    \\n      <g class=\\'ruler right\\'><line x1=\"190.0\" y1=\"82\" x2=\"190.0\" y2=\"520\" class=\"area_line\"/><line x1=\"190.0\" y1=\"82\" x2=\"190.0\" y2=\"460\" class=\"ruler_line\"/><line x1=\"185.0\" y1=\"309.1390134529148\" x2=\"195.0\" y2=\"309.1390134529148\" class=\"ruler_tick\"/><line x1=\"185.0\" y1=\"323.5470852017937\" x2=\"195.0\" y2=\"323.5470852017937\" class=\"ruler_tick\"/><text x=\"200.0\" y=\"195.5695067264574\" class=\"ruler_label\">60.1%</text><text x=\"200.0\" y=\"391.77354260089686\" class=\"ruler_label\">36.1%</text><text x=\"200.0\" y=\"316.34304932735427\" class=\"ruler_label\">3.8%</text></g>\\n    \\n      <text x=\"330.0\" y=\"490.0\" class=\"xlabel\">March</text>\\n    \\n      <g class=\\'ruler right\\'><line x1=\"330.0\" y1=\"82\" x2=\"330.0\" y2=\"520\" class=\"area_line\"/><line x1=\"330.0\" y1=\"82\" x2=\"330.0\" y2=\"460\" class=\"ruler_line\"/><line x1=\"325.0\" y1=\"237.6470588235294\" x2=\"335.0\" y2=\"237.6470588235294\" class=\"ruler_tick\"/><line x1=\"325.0\" y1=\"264.6899841017488\" x2=\"335.0\" y2=\"264.6899841017488\" class=\"ruler_tick\"/><text x=\"340.0\" y=\"159.8235294117647\" class=\"ruler_label\">41.2%</text><text x=\"340.0\" y=\"362.3449920508744\" class=\"ruler_label\">51.7%</text><text x=\"340.0\" y=\"251.1685214626391\" class=\"ruler_label\">7.2%</text></g>\\n    \\n      <text x=\"470.0\" y=\"490.0\" class=\"xlabel\">April</text>\\n    \\n      <g class=\\'ruler right\\'><line x1=\"470.0\" y1=\"82\" x2=\"470.0\" y2=\"520\" class=\"area_line\"/><line x1=\"470.0\" y1=\"82\" x2=\"470.0\" y2=\"460\" class=\"ruler_line\"/><line x1=\"465.0\" y1=\"200.86438152011925\" x2=\"475.0\" y2=\"200.86438152011925\" class=\"ruler_tick\"/><line x1=\"465.0\" y1=\"251.0014903129657\" x2=\"475.0\" y2=\"251.0014903129657\" class=\"ruler_tick\"/><text x=\"480.0\" y=\"141.43219076005963\" class=\"ruler_label\">31.4%</text><text x=\"480.0\" y=\"355.5007451564828\" class=\"ruler_label\">55.3%</text><text x=\"480.0\" y=\"225.93293591654248\" class=\"ruler_label\">13.3%</text></g>\\n    \\n      <text x=\"610.0\" y=\"490.0\" class=\"xlabel\">May</text>\\n    \\n      <g class=\\'ruler right\\'><line x1=\"610.0\" y1=\"82\" x2=\"610.0\" y2=\"520\" class=\"area_line\"/><line x1=\"610.0\" y1=\"82\" x2=\"610.0\" y2=\"460\" class=\"ruler_line\"/><line x1=\"605.0\" y1=\"242.2391304347826\" x2=\"615.0\" y2=\"242.2391304347826\" class=\"ruler_tick\"/><line x1=\"605.0\" y1=\"369.60869565217394\" x2=\"615.0\" y2=\"369.60869565217394\" class=\"ruler_tick\"/><text x=\"620.0\" y=\"162.1195652173913\" class=\"ruler_label\">42.4%</text><text x=\"620.0\" y=\"414.804347826087\" class=\"ruler_label\">23.9%</text><text x=\"620.0\" y=\"305.92391304347825\" class=\"ruler_label\">33.7%</text></g>\\n    \\n      <text x=\"750.0\" y=\"490.0\" class=\"xlabel\">June</text>\\n    \\n      <g class=\\'ruler right\\'><line x1=\"750.0\" y1=\"82\" x2=\"750.0\" y2=\"520\" class=\"area_line\"/><line x1=\"750.0\" y1=\"82\" x2=\"750.0\" y2=\"460\" class=\"ruler_line\"/><line x1=\"745.0\" y1=\"127.36000000000001\" x2=\"755.0\" y2=\"127.36000000000001\" class=\"ruler_tick\"/><line x1=\"745.0\" y1=\"196.912\" x2=\"755.0\" y2=\"196.912\" class=\"ruler_tick\"/><text x=\"760.0\" y=\"104.68\" class=\"ruler_label\">12.0%</text><text x=\"760.0\" y=\"328.456\" class=\"ruler_label\">69.6%</text><text x=\"760.0\" y=\"162.13600000000002\" class=\"ruler_label\">18.4%</text></g>\\n    \\n  \\n\\n</svg>'"
      ]
     },
     "execution_count": 4,
     "metadata": {},
     "output_type": "execute_result"
    }
   ],
   "source": [
    "venn_trend(df.labels, df.a, df.b, df.ab)"
   ]
  },
  {
   "cell_type": "markdown",
   "metadata": {},
   "source": [
    " "
   ]
  }
 ],
 "metadata": {
  "kernelspec": {
   "display_name": "Python 3",
   "language": "python",
   "name": "python3"
  },
  "language_info": {
   "codemirror_mode": {
    "name": "ipython",
    "version": 3
   },
   "file_extension": ".py",
   "mimetype": "text/x-python",
   "name": "python",
   "nbconvert_exporter": "python",
   "pygments_lexer": "ipython3",
   "version": "3.7.2"
  }
 },
 "nbformat": 4,
 "nbformat_minor": 2
}
